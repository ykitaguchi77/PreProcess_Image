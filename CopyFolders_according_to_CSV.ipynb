{
  "nbformat": 4,
  "nbformat_minor": 0,
  "metadata": {
    "colab": {
      "name": "Untitled78.ipynb のコピー",
      "provenance": [],
      "authorship_tag": "ABX9TyMi3glLlphy4Bgz92uoTOfZ",
      "include_colab_link": true
    },
    "kernelspec": {
      "name": "python3",
      "display_name": "Python 3"
    },
    "language_info": {
      "name": "python"
    }
  },
  "cells": [
    {
      "cell_type": "markdown",
      "metadata": {
        "id": "view-in-github",
        "colab_type": "text"
      },
      "source": [
        "<a href=\"https://colab.research.google.com/github/ykitaguchi77/PreProcess_Image_colab/blob/master/CopyFolders_according_to_CSV.ipynb\" target=\"_parent\"><img src=\"https://colab.research.google.com/assets/colab-badge.svg\" alt=\"Open In Colab\"/></a>"
      ]
    },
    {
      "cell_type": "markdown",
      "metadata": {
        "id": "7jH39cEsZF1e"
      },
      "source": [
        "#**CSVに一致する番号のフォルダを指定の場所に振り分けてコピーするスクリプト**"
      ]
    },
    {
      "cell_type": "code",
      "metadata": {
        "id": "aBhs69QwZQ80"
      },
      "source": [
        "\"\"\"\n",
        "-----FacePhoto-----facephoto1.1---------1\n",
        "                                    |---2\n",
        "\n",
        "-----FacePhoto-----Staismus_candiddate-------Exo_0to10-----1\n",
        "                                          |--Exo_10to21----2\n",
        "\n",
        "\"\"\""
      ],
      "execution_count": null,
      "outputs": []
    },
    {
      "cell_type": "code",
      "metadata": {
        "id": "bykr19aPOBz5"
      },
      "source": [
        "import shutil\n",
        "import pandas as pd\n",
        "import codecs"
      ],
      "execution_count": null,
      "outputs": []
    },
    {
      "cell_type": "code",
      "metadata": {
        "id": "lvxCnCIcP-ud"
      },
      "source": [
        "csv_base_path = \"C://Users//ykita//FacePhoto//DiseaseInfo_extracted\"\n",
        "folder_base_path = \"C://Users//ykita//FacePhoto//Strabismus_candidate\"\n",
        "image_container_path = \"C://Users//ykita//FacePhoto//facephoto1.1\"\n",
        "csv_name = [\"内斜視_0to10\", \"内斜視_11to20\",\"内斜視_21to100\", \"外斜視_0to10\",\"外斜視_11to20\",\"外斜視_21to100\",\"内斜視外斜視以外_0to10\",\"内斜視外斜視以外_11to20\"]\n",
        "dst_folder_name = [\"Eso_0to10\", \"Eso_11to20\", \"Eso_21to100\", \"Exo_0to10\", \"Exo_11to20\", \"Exo_21to100\", \"Cont_0to10\", \"Cont_11to20\"]"
      ],
      "execution_count": null,
      "outputs": []
    },
    {
      "cell_type": "code",
      "metadata": {
        "colab": {
          "base_uri": "https://localhost:8080/"
        },
        "id": "GmXnac-XXHXF",
        "outputId": "eb46fdca-d7b6-4920-f2cb-3e629bc6b653"
      },
      "source": [
        "#パスの記載例\n",
        "print(base_path +csv_name[0]+\".csv\")\n",
        "print(image_container_path + \"//\"+str(num_list[0]))\n",
        "print(folder_base_path + \"//\"+dst_folder_name[0]+\"//\"+str(num_list[0]))"
      ],
      "execution_count": null,
      "outputs": [
        {
          "output_type": "stream",
          "name": "stdout",
          "text": [
            "C://Users//ykita//FacePhoto//DiseaseInfo_extracted内斜視_0to10.csv\n",
            "C://Users//ykita//FacePhoto//facephoto1.1//5\n",
            "C://Users//ykita//FacePhoto//Strabismus_candidate//Eso_0to10//5\n"
          ]
        }
      ]
    },
    {
      "cell_type": "markdown",
      "metadata": {
        "id": "YSm764L0YLWe"
      },
      "source": [
        "Image_container_pathからCSVと数字が一致するものを探し、フォルダごとdst_folderにコピー<br>\n",
        "C://Users//ykita//FacePhoto//facephoto1.1//18 →コピー　C://Users//ykita//FacePhoto//Strabismus_candidate//Eso_0to10//18"
      ]
    },
    {
      "cell_type": "code",
      "metadata": {
        "colab": {
          "base_uri": "https://localhost:8080/"
        },
        "id": "xMYG0UiNOLX3",
        "outputId": "34120d63-ddcc-440a-8a58-34f415615649"
      },
      "source": [
        "for i, j in zip(csv_name, dst_folder_name):\n",
        "    csv_path = csv_base_path +\"_\"+str(i)+\".csv\"\n",
        "    dst_folder_path = folder_base_path + \"//\"+str(j)\n",
        "\n",
        "    #CSV fileを開く\n",
        "    #文字化けする時は、utf8, shift-jis, cp932のいずれかに変更\n",
        "    with codecs.open(path, \"r\", \"utf8\", \"ignore\") as file:\n",
        "        df = pd.read_csv(csv_path, delimiter=\",\",  header=None)\n",
        "    num_list = df[2].to_list() #patient number一覧を取得\n",
        "\n",
        "    print(str(i)+\" processing!\")\n",
        "    k=0\n",
        "   \n",
        "    for m in num_list:\n",
        "        k+=1\n",
        "        try:\n",
        "            shutil.copytree(image_container_path+\"//\"+str(m), folder_base_path + \"//\"+str(j)+\"//\"+str(m))\n",
        "        except:\n",
        "            print(\"folder not found\")\n",
        "            pass\n",
        "        print(str(k)+\" folders copied!\")"
      ],
      "execution_count": null,
      "outputs": [
        {
          "output_type": "stream",
          "name": "stdout",
          "text": [
            "内斜視_0to10 processing!\n",
            "1 folders copied!\n",
            "2 folders copied!\n",
            "3 folders copied!\n",
            "4 folders copied!\n",
            "5 folders copied!\n",
            "6 folders copied!\n",
            "7 folders copied!\n",
            "8 folders copied!\n",
            "9 folders copied!\n",
            "10 folders copied!\n",
            "11 folders copied!\n",
            "12 folders copied!\n",
            "13 folders copied!\n",
            "14 folders copied!\n",
            "15 folders copied!\n",
            "16 folders copied!\n",
            "17 folders copied!\n",
            "18 folders copied!\n",
            "19 folders copied!\n",
            "20 folders copied!\n",
            "21 folders copied!\n",
            "22 folders copied!\n",
            "23 folders copied!\n",
            "24 folders copied!\n",
            "25 folders copied!\n",
            "26 folders copied!\n",
            "27 folders copied!\n",
            "28 folders copied!\n",
            "29 folders copied!\n",
            "30 folders copied!\n",
            "31 folders copied!\n",
            "32 folders copied!\n",
            "33 folders copied!\n",
            "34 folders copied!\n",
            "35 folders copied!\n",
            "36 folders copied!\n",
            "37 folders copied!\n",
            "38 folders copied!\n",
            "39 folders copied!"
          ]
        }
      ]
    }
  ]
}