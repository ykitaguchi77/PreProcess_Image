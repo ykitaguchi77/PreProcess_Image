{
  "nbformat": 4,
  "nbformat_minor": 0,
  "metadata": {
    "colab": {
      "name": "Untitled62.ipynb",
      "provenance": [],
      "authorship_tag": "ABX9TyMhcUE6+K0uKcDu85XPSR/4",
      "include_colab_link": true
    },
    "kernelspec": {
      "name": "python3",
      "display_name": "Python 3"
    }
  },
  "cells": [
    {
      "cell_type": "markdown",
      "metadata": {
        "id": "view-in-github",
        "colab_type": "text"
      },
      "source": [
        "<a href=\"https://colab.research.google.com/github/ykitaguchi77/PreProcess_Image_colab/blob/master/Make_mini_dataset.ipynb\" target=\"_parent\"><img src=\"https://colab.research.google.com/assets/colab-badge.svg\" alt=\"Open In Colab\"/></a>"
      ]
    },
    {
      "cell_type": "markdown",
      "metadata": {
        "id": "FmVBzTgBM8gl",
        "colab_type": "text"
      },
      "source": [
        ""
      ]
    },
    {
      "cell_type": "code",
      "metadata": {
        "id": "osK-8tCFe7V_",
        "colab_type": "code",
        "colab": {
          "base_uri": "https://localhost:8080/",
          "height": 33
        },
        "outputId": "75ac6b84-903f-4c8b-93b8-1fc42535d9c1"
      },
      "source": [
        "import random\n",
        "import glob\n",
        "import os\n",
        "import shutil\n",
        "\n",
        "\"\"\"\n",
        "フォルダ内のファイルから規定数を無作為に抽出し、別フォルダにコピーするスクリプト\n",
        "実行前\n",
        "-----orig_path-----grav-----1.jpg\n",
        "               |       |--2.jpg\n",
        "               |       |--3.jpg\n",
        "               |       |--4.jpg\n",
        "               |-cont----5.jpg\n",
        "                       |--6.jpg\n",
        "                       |--7.jpg\n",
        "                       |--8.jpg\n",
        "\n",
        "\n",
        "\n",
        "実行後\n",
        "\n",
        "-----orig_path-----grav-----1.jpg\n",
        "  |             |       |--2.jpg\n",
        "  |             |       |--3.jpg\n",
        "  |             |       |--4.jpg\n",
        "  |             |-cont----5.jpg\n",
        "  |                    |--6.jpg\n",
        "  |                    |--7.jpg\n",
        "  |                    |--8.jpg\n",
        "  |--dst_path-----grav-----1.jpg\n",
        "               |       |--2.jpg\n",
        "               |-cont----5.jpg\n",
        "                      |--6.jpg\n",
        "\"\"\"\n",
        "\n",
        "from google.colab import drive\n",
        "drive.mount('/content/drive')"
      ],
      "execution_count": null,
      "outputs": [
        {
          "output_type": "stream",
          "text": [
            "Mounted at /content/drive\n"
          ],
          "name": "stdout"
        }
      ]
    },
    {
      "cell_type": "code",
      "metadata": {
        "id": "EiZc9Jl22lIr",
        "colab_type": "code",
        "colab": {}
      },
      "source": [
        "def randomcopy_files(orig_path, dst_path, copy_num, class_name):\n",
        "    orig_path = orig_path + \"/\" + class_name\n",
        "    dst_path = dst_path + \"/\" + class_name\n",
        "    if not os.path.exists(dst_path):  # ディレクトリがなかったら\n",
        "        os.mkdir(dst_path)  # 作成したいフォルダ名を作成\n",
        "        \n",
        "    files = glob.glob(orig_path + \"/*\")\n",
        "    sample_files = random.sample(files, copy_num)  # 規定数のファイルを無作為に選択\n",
        "\n",
        "    for p in sample_files:  # 選択したファイルを目的フォルダにコピー\n",
        "        shutil.copy(p, dst_path)\n",
        "        print(p)\n",
        "\n",
        "    print(\"process done!!\")"
      ],
      "execution_count": null,
      "outputs": []
    },
    {
      "cell_type": "code",
      "metadata": {
        "id": "gwwfVNXGKJzg",
        "colab_type": "code",
        "colab": {
          "base_uri": "https://localhost:8080/",
          "height": 583
        },
        "outputId": "96c1f37a-f94c-43a9-eed7-83bb597a561f"
      },
      "source": [
        "classes = ['grav', 'cont']\n",
        "orig_path = \"/content/drive/My Drive/PrePlusTrain/558\"\n",
        "dst_path = \"/content/drive/My Drive/PrePlusTrain/32\"  # フォルダ名\n",
        "if not os.path.exists(dst_path):  # ディレクトリがなかったら\n",
        "    os.mkdir(dst_path)  # 作成したいフォルダ名を作成\n",
        "copy_num = 16  # 移動したいファイルの数(各クラス毎の数)\n",
        "\n",
        "for i in classes:\n",
        "    randomcopy_files(orig_path, dst_path, copy_num, i)\n",
        "\n"
      ],
      "execution_count": null,
      "outputs": [
        {
          "output_type": "stream",
          "text": [
            "/content/drive/My Drive/PrePlusTrain/558/grav/3752.JPG\n",
            "/content/drive/My Drive/PrePlusTrain/558/grav/6518.jpg\n",
            "/content/drive/My Drive/PrePlusTrain/558/grav/3412.JPG\n",
            "/content/drive/My Drive/PrePlusTrain/558/grav/6579.jpg\n",
            "/content/drive/My Drive/PrePlusTrain/558/grav/4382.jpg\n",
            "/content/drive/My Drive/PrePlusTrain/558/grav/1333.JPG\n",
            "/content/drive/My Drive/PrePlusTrain/558/grav/1270.jpg\n",
            "/content/drive/My Drive/PrePlusTrain/558/grav/3164.jpg\n",
            "/content/drive/My Drive/PrePlusTrain/558/grav/4465.jpg\n",
            "/content/drive/My Drive/PrePlusTrain/558/grav/7346.JPG\n",
            "/content/drive/My Drive/PrePlusTrain/558/grav/2007.JPG\n",
            "/content/drive/My Drive/PrePlusTrain/558/grav/1910.JPG\n",
            "/content/drive/My Drive/PrePlusTrain/558/grav/718.jpg\n",
            "/content/drive/My Drive/PrePlusTrain/558/grav/5865.JPG\n",
            "/content/drive/My Drive/PrePlusTrain/558/grav/19.jpg\n",
            "/content/drive/My Drive/PrePlusTrain/558/grav/6074.JPG\n",
            "process done!!\n",
            "/content/drive/My Drive/PrePlusTrain/558/cont/5040.JPG\n",
            "/content/drive/My Drive/PrePlusTrain/558/cont/6126.jpg\n",
            "/content/drive/My Drive/PrePlusTrain/558/cont/1762.jpg\n",
            "/content/drive/My Drive/PrePlusTrain/558/cont/2236.JPG\n",
            "/content/drive/My Drive/PrePlusTrain/558/cont/7027.jpg\n",
            "/content/drive/My Drive/PrePlusTrain/558/cont/6838.jpg\n",
            "/content/drive/My Drive/PrePlusTrain/558/cont/1605.JPG\n",
            "/content/drive/My Drive/PrePlusTrain/558/cont/1428.jpg\n",
            "/content/drive/My Drive/PrePlusTrain/558/cont/5826.jpg\n",
            "/content/drive/My Drive/PrePlusTrain/558/cont/3436.JPG\n",
            "/content/drive/My Drive/PrePlusTrain/558/cont/562.jpg\n",
            "/content/drive/My Drive/PrePlusTrain/558/cont/4528.jpg\n",
            "/content/drive/My Drive/PrePlusTrain/558/cont/5881.jpg\n",
            "/content/drive/My Drive/PrePlusTrain/558/cont/646.jpg\n",
            "/content/drive/My Drive/PrePlusTrain/558/cont/469.jpg\n",
            "/content/drive/My Drive/PrePlusTrain/558/cont/398.jpg\n",
            "process done!!\n"
          ],
          "name": "stdout"
        }
      ]
    }
  ]
}