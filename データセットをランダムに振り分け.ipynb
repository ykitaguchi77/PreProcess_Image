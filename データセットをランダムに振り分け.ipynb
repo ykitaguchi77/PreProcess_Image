{
  "nbformat": 4,
  "nbformat_minor": 0,
  "metadata": {
    "colab": {
      "name": "Untitled34.ipynb",
      "provenance": [],
      "toc_visible": true,
      "include_colab_link": true
    },
    "kernelspec": {
      "name": "python3",
      "display_name": "Python 3"
    },
    "accelerator": "GPU"
  },
  "cells": [
    {
      "cell_type": "markdown",
      "metadata": {
        "id": "view-in-github",
        "colab_type": "text"
      },
      "source": [
        "<a href=\"https://colab.research.google.com/github/ykitaguchi77/PreProcess_Image_colab/blob/master/%E3%83%87%E3%83%BC%E3%82%BF%E3%82%BB%E3%83%83%E3%83%88%E3%82%92%E3%83%A9%E3%83%B3%E3%83%80%E3%83%A0%E3%81%AB%E6%8C%AF%E3%82%8A%E5%88%86%E3%81%91.ipynb\" target=\"_parent\"><img src=\"https://colab.research.google.com/assets/colab-badge.svg\" alt=\"Open In Colab\"/></a>"
      ]
    },
    {
      "cell_type": "markdown",
      "metadata": {
        "id": "oJv9nZ-chhr5",
        "colab_type": "text"
      },
      "source": [
        "#**データセットをランダムに振り分け**\n",
        "\n"
      ]
    },
    {
      "cell_type": "code",
      "metadata": {
        "id": "qPG1W8mMLHgb",
        "colab_type": "code",
        "colab": {
          "base_uri": "https://localhost:8080/",
          "height": 54
        },
        "outputId": "c2c039eb-db20-4b0b-a2a5-8a4b2d38ec7b"
      },
      "source": [
        "\"\"\"\n",
        "dataset--------grav\n",
        "          |----cont\n",
        "↓\n",
        "\n",
        "dataset---train----grav\n",
        "        |       |--cont\n",
        "        |\n",
        "        |----------grav  \n",
        "                |--cont\n",
        "\"\"\""
      ],
      "execution_count": 1,
      "outputs": [
        {
          "output_type": "execute_result",
          "data": {
            "application/vnd.google.colaboratory.intrinsic+json": {
              "type": "string"
            },
            "text/plain": [
              "'\\ndataset--------grav\\n          |----cont\\n↓\\n\\ndataset---train----grav\\n        |       |--cont\\n        |\\n        |----------grav  \\n                |--cont\\n'"
            ]
          },
          "metadata": {
            "tags": []
          },
          "execution_count": 1
        }
      ]
    },
    {
      "cell_type": "code",
      "metadata": {
        "id": "QDgbjW1whffo",
        "colab_type": "code",
        "colab": {
          "base_uri": "https://localhost:8080/",
          "height": 146
        },
        "outputId": "879287a3-0ff6-4b00-81f4-b4b24a6259df"
      },
      "source": [
        "from __future__ import print_function, division\n",
        "\n",
        "import torch\n",
        "import torch.nn as nn\n",
        "import torch.optim as optim\n",
        "from torch.optim import lr_scheduler\n",
        "import torch.utils.data as data\n",
        "import numpy as np\n",
        "import torchvision\n",
        "from torchvision import datasets, models, transforms\n",
        "import matplotlib.pyplot as plt\n",
        "import time\n",
        "import os\n",
        "import copy\n",
        "import math\n",
        "import shutil\n",
        "\n",
        "#Advanced Pytorchから\n",
        "import glob\n",
        "import os.path as osp\n",
        "import random\n",
        "import json\n",
        "from PIL import Image\n",
        "from tqdm import tqdm\n",
        "%matplotlib inline\n",
        "\n",
        "#サポートパッチのインポート\n",
        "from google.colab.patches import cv2_imshow\n",
        "import cv2\n",
        "\n",
        "plt.ion()   # interactive mode\n",
        "device = torch.device(\"cuda:0\" if torch.cuda.is_available() else \"cpu\")\n",
        "\n",
        "# Set random seem for reproducibility\n",
        "manualSeed = 20200815\n",
        "#manualSeed = random.randint(1, 10000) # use if you want new results\n",
        "print(\"Random Seed: \", manualSeed)\n",
        "random.seed(manualSeed)\n",
        "torch.manual_seed(manualSeed)\n",
        "torch.cuda.manual_seed(manualSeed)\n",
        "\n",
        "torch.torch.backends.cudnn.benchmark = True\n",
        "torch.torch.backends.cudnn.enabled = True\n",
        "\n",
        "\n",
        "'''\n",
        "grav: 甲状腺眼症\n",
        "cont: コントロール\n",
        "黒の空白を挿入することにより225px*225pxの画像を生成、EfficientNetを用いて転移学習\n",
        "－－－－－－－－－－－－－－\n",
        "データの構造\n",
        "gravcont.zip ------grav\n",
        "               |---cont\n",
        "'''                                     \n",
        "\n",
        "#google driveをcolabolatoryにマウント\n",
        "from google.colab import drive\n",
        "drive.mount('/content/drive')"
      ],
      "execution_count": 2,
      "outputs": [
        {
          "output_type": "stream",
          "text": [
            "Random Seed:  20200815\n",
            "Go to this URL in a browser: https://accounts.google.com/o/oauth2/auth?client_id=947318989803-6bn6qk8qdgf4n4g3pfee6491hc0brc4i.apps.googleusercontent.com&redirect_uri=urn%3aietf%3awg%3aoauth%3a2.0%3aoob&scope=email%20https%3a%2f%2fwww.googleapis.com%2fauth%2fdocs.test%20https%3a%2f%2fwww.googleapis.com%2fauth%2fdrive%20https%3a%2f%2fwww.googleapis.com%2fauth%2fdrive.photos.readonly%20https%3a%2f%2fwww.googleapis.com%2fauth%2fpeopleapi.readonly&response_type=code\n",
            "\n",
            "Enter your authorization code:\n",
            "4/4AEfk8TQpp_1-H7vZqa5yjBCrDubkO2R4PhdCKZ4MD_6GQ_hPFIggAo\n",
            "Mounted at /content/drive\n"
          ],
          "name": "stdout"
        }
      ]
    },
    {
      "cell_type": "markdown",
      "metadata": {
        "id": "1YDKCGRji5DL",
        "colab_type": "text"
      },
      "source": [
        "#**データセットをランダムに振り分け**"
      ]
    },
    {
      "cell_type": "code",
      "metadata": {
        "id": "igUyt4Jti4Y9",
        "colab_type": "code",
        "colab": {}
      },
      "source": [
        "#処理時間の計測\n",
        "start = time.time()\n",
        "\n",
        "in_path = '/content/drive/My Drive/Grav_bootcamp/PrePlusTrain32/'\n",
        "out_path = '/content/drive/My Drive/Grav_bootcamp/PrePlusTrain_32'\n",
        "\n",
        "if os.path.exists(out_path):\n",
        "    shutil.rmtree(out_path)\n",
        "os.makedirs(out_path, exist_ok=True)\n",
        "\n",
        "classes = os.listdir(in_path)\n",
        "print(classes)\n",
        "\n",
        "num = len(glob.glob(in_path + '*/*'))\n",
        "print(num)\n",
        "\n",
        "\n",
        "list = [0] * len(classes)\n",
        "train = [0] * len(classes)\n",
        "val = [0] * len(classes)\n",
        "k=0\n",
        "l=0\n",
        "for i in classes:\n",
        "    list[k] = os.listdir(in_path + i)\n",
        "    train[k] = random.sample(list[k], int(len(list[k])*0.8))\n",
        "    val[k] = [x for x in list[k] if x not in train[k]]\n",
        "    os.makedirs(out_path +'/train/'+i, exist_ok=True) #trainのフォルダを作成\n",
        "    os.makedirs(out_path +'/val/'+i, exist_ok=True) #valのフォルダを作成\n",
        "    for j in train[k]:\n",
        "          shutil.copy(in_path+i+'/'+j, out_path +'/train/'+i)\n",
        "          l+=1\n",
        "          print(str(l)+'/'+str(num)+' images copied')\n",
        "    for j in val[k]:\n",
        "          shutil.copy(in_path+i+'/'+j, out_path +'/val/'+i)\n",
        "          l+=1\n",
        "          print(str(l)+'/'+str(num)+' images copied')\n",
        "\n",
        "\n",
        "\n",
        "print('Process done!!')\n",
        "elapsed_time = time.time() - start\n",
        "print (\"elapsed_time:{0}\".format(elapsed_time) + \"[sec]\")"
      ],
      "execution_count": null,
      "outputs": []
    },
    {
      "cell_type": "markdown",
      "metadata": {
        "id": "-PrEE2-wpYFB",
        "colab_type": "text"
      },
      "source": [
        "#**フォルダ内容の確認**"
      ]
    },
    {
      "cell_type": "code",
      "metadata": {
        "id": "cnL0t0zUnnG5",
        "colab_type": "code",
        "colab": {
          "base_uri": "https://localhost:8080/",
          "height": 126
        },
        "outputId": "99ec30bd-ed45-4185-b6e4-b9ee4209e2f9"
      },
      "source": [
        "print('train:')\n",
        "print('  grav: '+str(len(glob.glob(out_path+'/train/grav/*'))))\n",
        "print('  cont: '+str(len(glob.glob(out_path+'/train/cont/*'))))\n",
        "print('val:')\n",
        "print('  grav: '+str(len(glob.glob(out_path+'/val/grav/*'))))\n",
        "print('  cont: '+str(len(glob.glob(out_path+'/val/cont/*'))))"
      ],
      "execution_count": 13,
      "outputs": [
        {
          "output_type": "stream",
          "text": [
            "train:\n",
            "  grav: 12\n",
            "  cont: 12\n",
            "val:\n",
            "  grav: 4\n",
            "  cont: 4\n"
          ],
          "name": "stdout"
        }
      ]
    },
    {
      "cell_type": "markdown",
      "metadata": {
        "id": "pS7jyEWbjVRe",
        "colab_type": "text"
      },
      "source": [
        "#フォルダとその中のファイルを削除するスクリプト"
      ]
    },
    {
      "cell_type": "code",
      "metadata": {
        "id": "_M6lAV7zhigJ",
        "colab_type": "code",
        "colab": {}
      },
      "source": [
        "#フォルダを削除するスクリプト\n",
        "directory = '/content/drive/My Drive/Deep_learning/gravcont_seed_1234'\n",
        "files = os.listdir(directory)\n",
        "print(directory)\n",
        "print(files)\n",
        "\n",
        "for i in files:\n",
        "    try:\n",
        "        os.remove(directory+'/'+i)\n",
        "    except IsADirectoryError:\n",
        "        pass\n",
        "\n",
        "shutil.rmtree(directory)"
      ],
      "execution_count": null,
      "outputs": []
    }
  ]
}