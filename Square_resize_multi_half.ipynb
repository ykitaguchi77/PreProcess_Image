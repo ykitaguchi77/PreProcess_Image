{
  "nbformat": 4,
  "nbformat_minor": 0,
  "metadata": {
    "colab": {
      "name": "Untitled40.ipynb",
      "provenance": [],
      "toc_visible": true,
      "include_colab_link": true
    },
    "kernelspec": {
      "name": "python3",
      "display_name": "Python 3"
    }
  },
  "cells": [
    {
      "cell_type": "markdown",
      "metadata": {
        "id": "view-in-github",
        "colab_type": "text"
      },
      "source": [
        "<a href=\"https://colab.research.google.com/github/ykitaguchi77/PreProcess_Image_colab/blob/master/Square_resize_multi_half.ipynb\" target=\"_parent\"><img src=\"https://colab.research.google.com/assets/colab-badge.svg\" alt=\"Open In Colab\"/></a>"
      ]
    },
    {
      "cell_type": "markdown",
      "metadata": {
        "id": "FT-uBcZ9PSmm"
      },
      "source": [
        "#Square_resize_multi_500pix\n",
        "\n",
        "長方形を、長辺を一辺とした正方形にresizeし余白を黒く塗りつぶした上で、指定の大きさ（500pix）に縮小するスクリプト"
      ]
    },
    {
      "cell_type": "code",
      "metadata": {
        "id": "5yQwABlGCXgh",
        "colab": {
          "base_uri": "https://localhost:8080/"
        },
        "outputId": "046c30ea-1995-41c0-fd93-abab36809b67"
      },
      "source": [
        "import numpy as np\n",
        "import matplotlib.pyplot as plt\n",
        "import time\n",
        "import os\n",
        "import copy\n",
        "import pandas as pd\n",
        "import csv\n",
        "from random import randint\n",
        "from time import sleep\n",
        "import math\n",
        "\n",
        "import glob\n",
        "import random\n",
        "from PIL import Image, ImageDraw\n",
        "%matplotlib inline\n",
        "\n",
        "#サポートパッチのインポート\n",
        "from google.colab.patches import cv2_imshow\n",
        "import cv2\n",
        "\n",
        "plt.ion()   # interactive mode\n",
        "\n",
        "#Google driveをマウント\n",
        "from google.colab import drive\n",
        "drive.mount('/content/drive')\n"
      ],
      "execution_count": 1,
      "outputs": [
        {
          "output_type": "stream",
          "text": [
            "Drive already mounted at /content/drive; to attempt to forcibly remount, call drive.mount(\"/content/drive\", force_remount=True).\n"
          ],
          "name": "stdout"
        }
      ]
    },
    {
      "cell_type": "markdown",
      "metadata": {
        "id": "bEZ2tJ-uu5jk"
      },
      "source": [
        "#**フォルダ設定、パラメータ**"
      ]
    },
    {
      "cell_type": "code",
      "metadata": {
        "id": "wrMH6nm2u4Dd"
      },
      "source": [
        "#元画像フォルダ\n",
        "in_path1 = '/content/drive/MyDrive/Deep_learning/Olympia_dataset/dataset'\n",
        "in_path2 = '/content/drive/MyDrive/Deep_learning/Olympia_dataset/dataset'\n",
        "\n",
        "#保存先フォルダ\n",
        "out_path1 = '/content/drive/MyDrive/Deep_learning/Olympia_dataset/dataset_500px_uni'\n",
        "out_path2 = '/content/drive/MyDrive/Deep_learning/Olympia_dataset/dataset_500px_uni'\n",
        "\n",
        "#image_size(square pixel)\n",
        "im_size = 500"
      ],
      "execution_count": 6,
      "outputs": []
    },
    {
      "cell_type": "markdown",
      "metadata": {
        "id": "nzQon-jiSd2J"
      },
      "source": [
        "#モジュール群"
      ]
    },
    {
      "cell_type": "code",
      "metadata": {
        "id": "zLwAJH8MSh8o"
      },
      "source": [
        "def convert(in_path, out_path, processing_file):\n",
        "    #処理時間の計測\n",
        "    start = time.time()\n",
        "\n",
        "    l=0\n",
        "    for i in processing_file:      \n",
        "          num, ext = os.path.splitext(i)\n",
        "\n",
        "          \n",
        "          img = Image.open(in_path + '/' + i)\n",
        "          img_new_R = expand2square(img, (0, 0, 0)).resize((im_size, im_size))\n",
        "          img_new_L = expand2square(img, (0, 0, 0)).resize((im_size, im_size))\n",
        "          \n",
        "          img_R = half_paint_L(img_new_L, (0, 0, 0))\n",
        "          img_R.save(out_path + '/' + str((int(num))) +'_R'+ ext)         \n",
        "          \n",
        "          img_L = half_paint_R(img_new_R, (0, 0, 0))\n",
        "          img_L.save(out_path + '/' + str((int(num))) +'_L'+ ext)\n",
        "\n",
        "          print(out_path +'/'+ i)\n",
        "          \n",
        "          #切り取った画像を表示\n",
        "          #plt.imshow(np.asarray(img_new))\n",
        "          #plt.show()\n",
        "\n",
        "    print('Process done!!')\n",
        "    elapsed_time = time.time() - start\n",
        "    print (\"elapsed_time:{0}\".format(elapsed_time) + \"[sec]\")\n",
        "\n",
        "def half_paint_L(pil_img, background_color):\n",
        "    width, height = pil_img.size\n",
        "    draw = ImageDraw.Draw(pil_img)\n",
        "    draw.rectangle((width/2,0,width,height), fill=background_color)\n",
        "    return pil_img\n",
        "\n",
        "def half_paint_R(pil_img, background_color):\n",
        "    width, height = pil_img.size\n",
        "    draw = ImageDraw.Draw(pil_img)\n",
        "    draw.rectangle((0,0,width/2,height), fill=background_color)\n",
        "    return pil_img\n",
        "\n",
        "def expand2square(pil_img, background_color):\n",
        "    width, height = pil_img.size\n",
        "    if width == height:\n",
        "        return pil_img\n",
        "    elif width > height:\n",
        "        result = Image.new(pil_img.mode, (width, width), background_color)\n",
        "        result.paste(pil_img, (0, (width-height)//2))\n",
        "        return result\n",
        "    else:\n",
        "        result = Image.new(pil_img.mode, (height, height), background_color)\n",
        "        result.paste(pil_img, (0, (height - width) // 2))\n",
        "        return result\n",
        "\n",
        "def showInfo(in_path):\n",
        "    #処理するDirectoryの設定\n",
        "    file = os.listdir(in_path)\n",
        "    print('total images: '+str(len(file)))\n",
        "\n",
        "    #ここにフォルダ番号を記載するとその枚数だけ処理される (ex. [0:999])\n",
        "    processing_file = file\n",
        "    #processing_file = file[0:1]\n",
        "    print(processing_file)\n",
        "    print('processing images: '+str(len(processing_file)))\n",
        "    return processing_file\n"
      ],
      "execution_count": 7,
      "outputs": []
    },
    {
      "cell_type": "code",
      "metadata": {
        "id": "KgonyabnQJcE",
        "colab": {
          "base_uri": "https://localhost:8080/"
        },
        "outputId": "d84f5a05-128f-4121-c7e8-5060261b4ded"
      },
      "source": [
        "#元画像フォルダ\n",
        "in_path1 = in_path1\n",
        "\n",
        "#保存先フォルダ\n",
        "out_path1 = out_path1\n",
        "if not os.path.exists(out_path1):\n",
        "    os.makedirs(out_path1)\n",
        "\n",
        "processing_file = showInfo(in_path1)\n",
        "convert(in_path1, out_path1, processing_file)\n",
        "\n",
        "\"\"\"\n",
        "#元画像フォルダ\n",
        "in_path2 = in_path2\n",
        "\n",
        "#保存先フォルダ\n",
        "out_path2 = out_path2\n",
        "if not os.path.exists(out_path2):\n",
        "    os.makedirs(out_path2)\n",
        "\n",
        "processing_file = showInfo(in_path2)\n",
        "convert(in_path2, out_path2, processing_file)\n",
        "\"\"\""
      ],
      "execution_count": null,
      "outputs": [
        {
          "output_type": "stream",
          "text": [
            "total images: 1016\n",
            "['19.JPG', '20.JPG', '21.JPG', '22.JPG', '23.JPG', '24.JPG', '25.JPG', '26.JPG', '27.JPG', '28.JPG', '29.JPG', '30.JPG', '31.JPG', '32.JPG', '33.JPG', '34.JPG', '35.JPG', '36.JPG', '37.JPG', '38.JPG', '39.JPG', '40.JPG', '42.JPG', '43.JPG', '44.JPG', '41.JPG', '45.JPG', '47.JPG', '46.JPG', '48.JPG', '49.JPG', '50.JPG', '51.JPG', '52.JPG', '53.JPG', '54.JPG', '55.JPG', '56.JPG', '57.JPG', '59.JPG', '58.JPG', '60.JPG', '61.JPG', '62.JPG', '63.JPG', '64.JPG', '65.JPG', '66.JPG', '67.JPG', '68.JPG', '69.JPG', '70.JPG', '71.JPG', '72.JPG', '73.JPG', '74.JPG', '75.JPG', '76.JPG', '77.JPG', '78.JPG', '79.JPG', '80.JPG', '81.JPG', '82.JPG', '83.JPG', '84.JPG', '85.JPG', '86.JPG', '87.JPG', '89.JPG', '88.JPG', '90.JPG', '91.JPG', '92.JPG', '93.JPG', '94.JPG', '95.JPG', '96.JPG', '97.JPG', '936.JPG', '99.JPG', '101.JPG', '100.JPG', '102.JPG', '103.JPG', '104.JPG', '105.JPG', '106.JPG', '107.JPG', '108.JPG', '109.JPG', '112.JPG', '110.JPG', '111.JPG', '113.JPG', '115.JPG', '114.JPG', '116.JPG', '937.JPG', '117.JPG', '118.JPG', '119.JPG', '120.JPG', '121.JPG', '124.JPG', '123.JPG', '125.JPG', '122.JPG', '938.JPG', '126.JPG', '127.JPG', '128.JPG', '129.JPG', '939.JPG', '130.JPG', '131.JPG', '133.JPG', '132.JPG', '134.JPG', '135.JPG', '137.JPG', '136.JPG', '940.JPG', '139.JPG', '138.JPG', '140.JPG', '141.JPG', '142.JPG', '143.JPG', '144.JPG', '145.JPG', '146.JPG', '147.JPG', '148.JPG', '149.JPG', '150.JPG', '151.JPG', '152.JPG', '153.JPG', '154.JPG', '156.JPG', '155.JPG', '941.JPG', '157.JPG', '158.JPG', '159.JPG', '160.JPG', '162.JPG', '161.JPG', '945.JPG', '163.JPG', '164.JPG', '165.JPG', '166.JPG', '167.JPG', '168.JPG', '169.JPG', '946.JPG', '170.JPG', '947.JPG', '171.JPG', '172.JPG', '173.JPG', '174.JPG', '175.JPG', '176.JPG', '177.JPG', '178.JPG', '948.JPG', '179.JPG', '949.JPG', '180.JPG', '181.JPG', '182.JPG', '183.JPG', '184.JPG', '185.JPG', '186.JPG', '187.JPG', '188.JPG', '189.JPG', '190.JPG', '191.JPG', '192.JPG', '193.JPG', '194.JPG', '195.JPG', '196.JPG', '197.JPG', '198.JPG', '200.JPG', '199.JPG', '201.JPG', '950.JPG', '202.JPG', '203.JPG', '951.JPG', '204.JPG', '205.JPG', '206.JPG', '208.JPG', '207.JPG', '210.JPG', '209.JPG', '211.JPG', '212.JPG', '213.JPG', '214.JPG', '215.JPG', '952.JPG', '216.JPG', '217.JPG', '218.JPG', '953.JPG', '219.JPG', '954.JPG', '220.JPG', '221.JPG', '222.JPG', '223.JPG', '224.JPG', '225.JPG', '226.JPG', '227.JPG', '228.JPG', '229.JPG', '230.JPG', '231.JPG', '232.JPG', '233.JPG', '955.JPG', '234.JPG', '235.JPG', '236.JPG', '237.JPG', '239.JPG', '238.JPG', '240.JPG', '241.JPG', '243.JPG', '242.JPG', '244.JPG', '245.JPG', '246.JPG', '247.JPG', '248.JPG', '249.JPG', '956.JPG', '250.JPG', '957.JPG', '251.JPG', '252.JPG', '253.JPG', '254.JPG', '958.JPG', '255.JPG', '256.JPG', '959.JPG', '257.JPG', '258.JPG', '960.JPG', '259.JPG', '260.JPG', '261.JPG', '262.JPG', '263.JPG', '264.JPG', '266.JPG', '265.JPG', '267.JPG', '961.JPG', '268.JPG', '269.JPG', '270.JPG', '271.JPG', '272.JPG', '273.JPG', '274.JPG', '275.JPG', '276.JPG', '277.JPG', '962.JPG', '278.JPG', '279.JPG', '280.JPG', '963.JPG', '281.JPG', '282.JPG', '284.JPG', '283.JPG', '285.JPG', '286.JPG', '287.JPG', '288.JPG', '964.JPG', '289.JPG', '290.JPG', '292.JPG', '965.JPG', '293.JPG', '294.JPG', '295.JPG', '296.JPG', '297.JPG', '298.JPG', '299.JPG', '300.JPG', '301.JPG', '303.JPG', '302.JPG', '304.JPG', '305.JPG', '306.JPG', '307.JPG', '308.JPG', '966.JPG', '310.JPG', '311.JPG', '312.JPG', '313.JPG', '314.JPG', '315.JPG', '316.JPG', '317.JPG', '318.JPG', '319.JPG', '320.JPG', '322.JPG', '321.JPG', '323.JPG', '324.JPG', '325.JPG', '326.JPG', '328.JPG', '327.JPG', '967.JPG', '329.JPG', '330.JPG', '331.JPG', '332.JPG', '968.JPG', '333.JPG', '334.JPG', '335.JPG', '336.JPG', '337.JPG', '969.JPG', '338.JPG', '339.JPG', '340.JPG', '341.JPG', '342.JPG', '343.JPG', '344.JPG', '970.JPG', '971.JPG', '345.JPG', '346.JPG', '347.JPG', '348.JPG', '349.JPG', '350.JPG', '935.JPG', '351.JPG', '972.JPG', '353.JPG', '352.JPG', '354.JPG', '355.JPG', '356.JPG', '357.JPG', '358.JPG', '359.JPG', '360.JPG', '361.JPG', '362.JPG', '973.JPG', '363.JPG', '364.JPG', '974.JPG', '365.JPG', '366.JPG', '367.JPG', '368.JPG', '369.JPG', '370.JPG', '975.JPG', '371.JPG', '372.JPG', '373.JPG', '375.JPG', '374.JPG', '376.JPG', '377.JPG', '378.JPG', '379.JPG', '380.JPG', '381.JPG', '382.JPG', '383.JPG', '384.JPG', '976.JPG', '385.JPG', '386.JPG', '387.JPG', '388.JPG', '389.JPG', '390.JPG', '391.JPG', '392.JPG', '393.JPG', '394.JPG', '395.JPG', '396.JPG', '397.JPG', '398.JPG', '977.JPG', '978.JPG', '399.JPG', '979.JPG', '400.JPG', '401.JPG', '402.JPG', '403.JPG', '405.JPG', '404.JPG', '406.JPG', '407.JPG', '408.JPG', '410.JPG', '409.JPG', '980.JPG', '411.JPG', '981.JPG', '412.JPG', '413.JPG', '414.JPG', '416.JPG', '415.JPG', '417.JPG', '418.JPG', '419.JPG', '420.JPG', '421.JPG', '422.JPG', '982.JPG', '423.JPG', '983.JPG', '425.JPG', '426.JPG', '428.JPG', '427.JPG', '429.JPG', '430.JPG', '431.JPG', '432.JPG', '434.JPG', '433.JPG', '435.JPG', '436.JPG', '437.JPG', '438.JPG', '439.JPG', '440.JPG', '441.JPG', '442.JPG', '443.JPG', '444.JPG', '984.JPG', '445.JPG', '446.JPG', '449.JPG', '448.JPG', '447.JPG', '450.JPG', '451.JPG', '452.JPG', '453.JPG', '455.JPG', '454.JPG', '456.JPG', '457.JPG', '458.JPG', '459.JPG', '460.JPG', '461.JPG', '462.JPG', '463.JPG', '464.JPG', '465.JPG', '466.JPG', '467.JPG', '468.JPG', '469.JPG', '470.JPG', '472.JPG', '471.JPG', '473.JPG', '474.JPG', '475.JPG', '985.JPG', '476.JPG', '477.JPG', '478.JPG', '479.JPG', '480.JPG', '481.JPG', '482.JPG', '483.JPG', '484.JPG', '485.JPG', '486.JPG', '488.JPG', '487.JPG', '490.JPG', '489.JPG', '491.JPG', '987.JPG', '988.JPG', '492.JPG', '493.JPG', '494.JPG', '495.JPG', '496.JPG', '497.JPG', '498.JPG', '499.JPG', '500.JPG', '989.JPG', '990.JPG', '501.JPG', '502.JPG', '503.JPG', '991.JPG', '504.JPG', '505.JPG', '506.JPG', '507.JPG', '509.JPG', '508.JPG', '992.JPG', '993.JPG', '510.JPG', '511.JPG', '512.JPG', '513.JPG', '514.JPG', '515.JPG', '516.JPG', '517.JPG', '518.JPG', '519.JPG', '520.JPG', '521.JPG', '522.JPG', '523.JPG', '524.JPG', '525.JPG', '526.JPG', '528.JPG', '527.JPG', '529.JPG', '530.JPG', '994.JPG', '531.JPG', '532.JPG', '533.JPG', '534.JPG', '535.JPG', '536.JPG', '537.JPG', '538.JPG', '539.JPG', '540.JPG', '541.JPG', '542.JPG', '543.JPG', '544.JPG', '545.JPG', '995.JPG', '546.JPG', '996.JPG', '547.JPG', '548.JPG', '549.JPG', '550.JPG', '551.JPG', '552.JPG', '997.JPG', '553.JPG', '554.JPG', '998.JPG', '556.JPG', '555.JPG', '557.JPG', '558.JPG', '559.JPG', '560.JPG', '561.JPG', '999.JPG', '562.JPG', '563.JPG', '564.JPG', '565.JPG', '566.JPG', '567.JPG', '1000.JPG', '568.JPG', '569.JPG', '570.JPG', '1001.JPG', '571.JPG', '572.JPG', '573.JPG', '1002.JPG', '574.JPG', '575.JPG', '1003.JPG', '576.JPG', '578.JPG', '579.JPG', '580.JPG', '581.JPG', '583.JPG', '582.JPG', '584.JPG', '585.JPG', '586.JPG', '587.JPG', '588.JPG', '589.JPG', '590.JPG', '592.JPG', '591.JPG', '593.JPG', '594.JPG', '595.JPG', '596.JPG', '597.JPG', '598.JPG', '599.JPG', '601.JPG', '600.JPG', '602.JPG', '1004.JPG', '603.JPG', '604.JPG', '605.JPG', '606.JPG', '607.JPG', '608.JPG', '609.JPG', '610.JPG', '611.JPG', '612.JPG', '613.JPG', '614.JPG', '615.JPG', '616.JPG', '617.JPG', '619.JPG', '618.JPG', '620.JPG', '621.JPG', '622.JPG', '623.JPG', '624.JPG', '625.JPG', '626.JPG', '627.JPG', '628.JPG', '629.JPG', '630.JPG', '631.JPG', '632.JPG', '633.JPG', '635.JPG', '634.JPG', '636.JPG', '637.JPG', '1005.JPG', '638.JPG', '639.JPG', '640.JPG', '641.JPG', '642.JPG', '643.JPG', '644.JPG', '645.JPG', '646.JPG', '647.JPG', '648.JPG', '649.JPG', '650.JPG', '651.JPG', '652.JPG', '653.JPG', '654.JPG', '655.JPG', '656.JPG', '658.JPG', '657.JPG', '659.JPG', '660.JPG', '661.JPG', '1006.JPG', '662.JPG', '663.JPG', '2.JPG', '664.JPG', '665.JPG', '666.JPG', '667.JPG', '668.JPG', '669.JPG', '670.JPG', '671.JPG', '673.JPG', '674.JPG', '675.JPG', '676.JPG', '677.JPG', '1007.JPG', '678.JPG', '679.JPG', '680.JPG', '681.JPG', '1008.JPG', '682.JPG', '683.JPG', '684.JPG', '685.JPG', '686.JPG', '688.JPG', '687.JPG', '689.JPG', '690.JPG', '691.JPG', '692.JPG', '693.JPG', '694.JPG', '695.JPG', '697.JPG', '698.JPG', '699.JPG', '701.JPG', '702.JPG', '703.JPG', '704.JPG', '705.JPG', '706.JPG', '707.JPG', '708.JPG', '709.JPG', '710.JPG', '711.JPG', '712.JPG', '713.JPG', '1.JPG', '714.JPG', '715.JPG', '716.JPG', '717.JPG', '718.JPG', '719.JPG', '1009.JPG', '720.JPG', '986.JPG', '1010.JPG', '1011.JPG', '721.JPG', '722.JPG', '723.JPG', '724.JPG', '725.JPG', '726.JPG', '727.JPG', '728.JPG', '729.JPG', '730.JPG', '731.JPG', '732.JPG', '733.JPG', '734.JPG', '735.JPG', '736.JPG', '737.JPG', '738.JPG', '739.JPG', '740.JPG', '742.JPG', '741.JPG', '743.JPG', '744.JPG', '745.JPG', '746.JPG', '748.JPG', '747.JPG', '750.JPG', '749.JPG', '751.JPG', '752.JPG', '753.JPG', '754.JPG', '755.JPG', '756.JPG', '757.JPG', '758.JPG', '759.JPG', '760.JPG', '761.JPG', '1012.JPG', '762.JPG', '763.JPG', '764.JPG', '766.JPG', '765.JPG', '1013.JPG', '1014.JPG', '767.JPG', '768.JPG', '1015.JPG', '770.JPG', '769.JPG', '771.JPG', '772.JPG', '1017.JPG', '773.JPG', '774.JPG', '1018.JPG', '775.JPG', '776.JPG', '778.JPG', '777.JPG', '779.JPG', '1016.JPG', '780.JPG', '781.JPG', '782.JPG', '1019.JPG', '783.JPG', '784.JPG', '785.JPG', '787.JPG', '786.JPG', '788.JPG', '789.JPG', '791.JPG', '790.JPG', '792.JPG', '793.JPG', '794.JPG', '795.JPG', '796.JPG', '798.JPG', '799.JPG', '797.JPG', '800.JPG', '801.JPG', '802.JPG', '803.JPG', '804.JPG', '805.JPG', '806.JPG', '807.JPG', '808.JPG', '1020.JPG', '809.JPG', '810.JPG', '811.JPG', '812.JPG', '813.JPG', '1021.JPG', '814.JPG', '815.JPG', '816.JPG', '817.JPG', '818.JPG', '819.JPG', '820.JPG', '821.JPG', '822.JPG', '823.JPG', '825.JPG', '824.JPG', '826.JPG', '827.JPG', '828.JPG', '829.JPG', '1022.JPG', '830.JPG', '1023.JPG', '831.JPG', '832.JPG', '833.JPG', '834.JPG', '835.JPG', '836.JPG', '837.JPG', '838.JPG', '839.JPG', '840.JPG', '841.JPG', '842.JPG', '843.JPG', '844.JPG', '845.JPG', '846.JPG', '847.JPG', '848.JPG', '849.JPG', '850.JPG', '852.JPG', '853.JPG', '854.JPG', '855.JPG', '856.JPG', '857.JPG', '858.JPG', '859.JPG', '1024.JPG', '860.JPG', '1025.JPG', '861.JPG', '862.JPG', '863.JPG', '864.JPG', '865.JPG', '866.JPG', '867.JPG', '1026.JPG', '1027.JPG', '1028.JPG', '868.JPG', '870.JPG', '869.JPG', '1029.JPG', '871.JPG', '872.JPG', '874.JPG', '873.JPG', '875.JPG', '876.JPG', '877.JPG', '878.JPG', '879.JPG', '1030.JPG', '1031.JPG', '883.JPG', '884.JPG', '886.JPG', '887.JPG', '885.JPG', '888.JPG', '889.JPG', '890.JPG', '891.JPG', '892.JPG', '893.JPG', '894.JPG', '896.JPG', '895.JPG', '897.JPG', '898.JPG', '899.JPG', '900.JPG', '901.JPG', '902.JPG', '903.JPG', '904.JPG', '905.JPG', '906.JPG', '907.JPG', '908.JPG', '909.JPG', '910.JPG', '911.JPG', '912.JPG', '913.JPG', '914.JPG', '915.JPG', '916.JPG', '918.JPG', '919.JPG', '917.JPG', '920.JPG', '921.JPG', '922.JPG', '923.JPG', '924.JPG', '925.JPG', '926.JPG', '927.JPG', '928.JPG', '929.JPG', '930.JPG', '931.JPG', '932.JPG', '933.JPG', '934.JPG', '3.JPG', '4.JPG', '5.JPG', '6.JPG', '7.JPG', '8.JPG', '9.JPG', '10.JPG', '11.JPG', '12.JPG', '13.JPG', '14.JPG', '15.JPG', '16.JPG', '17.JPG', '18.JPG']\n",
            "processing images: 1016\n",
            "/content/drive/MyDrive/Deep_learning/Olympia_dataset/dataset_500px_uni/19.JPG\n",
            "/content/drive/MyDrive/Deep_learning/Olympia_dataset/dataset_500px_uni/20.JPG\n",
            "/content/drive/MyDrive/Deep_learning/Olympia_dataset/dataset_500px_uni/21.JPG\n",
            "/content/drive/MyDrive/Deep_learning/Olympia_dataset/dataset_500px_uni/22.JPG\n",
            "/content/drive/MyDrive/Deep_learning/Olympia_dataset/dataset_500px_uni/23.JPG\n",
            "/content/drive/MyDrive/Deep_learning/Olympia_dataset/dataset_500px_uni/24.JPG\n",
            "/content/drive/MyDrive/Deep_learning/Olympia_dataset/dataset_500px_uni/25.JPG\n",
            "/content/drive/MyDrive/Deep_learning/Olympia_dataset/dataset_500px_uni/26.JPG\n",
            "/content/drive/MyDrive/Deep_learning/Olympia_dataset/dataset_500px_uni/27.JPG\n",
            "/content/drive/MyDrive/Deep_learning/Olympia_dataset/dataset_500px_uni/28.JPG\n",
            "/content/drive/MyDrive/Deep_learning/Olympia_dataset/dataset_500px_uni/29.JPG\n",
            "/content/drive/MyDrive/Deep_learning/Olympia_dataset/dataset_500px_uni/30.JPG\n",
            "/content/drive/MyDrive/Deep_learning/Olympia_dataset/dataset_500px_uni/31.JPG\n",
            "/content/drive/MyDrive/Deep_learning/Olympia_dataset/dataset_500px_uni/32.JPG\n",
            "/content/drive/MyDrive/Deep_learning/Olympia_dataset/dataset_500px_uni/33.JPG\n",
            "/content/drive/MyDrive/Deep_learning/Olympia_dataset/dataset_500px_uni/34.JPG\n",
            "/content/drive/MyDrive/Deep_learning/Olympia_dataset/dataset_500px_uni/35.JPG\n",
            "/content/drive/MyDrive/Deep_learning/Olympia_dataset/dataset_500px_uni/36.JPG\n",
            "/content/drive/MyDrive/Deep_learning/Olympia_dataset/dataset_500px_uni/37.JPG\n",
            "/content/drive/MyDrive/Deep_learning/Olympia_dataset/dataset_500px_uni/38.JPG\n",
            "/content/drive/MyDrive/Deep_learning/Olympia_dataset/dataset_500px_uni/39.JPG\n",
            "/content/drive/MyDrive/Deep_learning/Olympia_dataset/dataset_500px_uni/40.JPG\n",
            "/content/drive/MyDrive/Deep_learning/Olympia_dataset/dataset_500px_uni/42.JPG\n",
            "/content/drive/MyDrive/Deep_learning/Olympia_dataset/dataset_500px_uni/43.JPG\n",
            "/content/drive/MyDrive/Deep_learning/Olympia_dataset/dataset_500px_uni/44.JPG\n",
            "/content/drive/MyDrive/Deep_learning/Olympia_dataset/dataset_500px_uni/41.JPG\n",
            "/content/drive/MyDrive/Deep_learning/Olympia_dataset/dataset_500px_uni/45.JPG\n",
            "/content/drive/MyDrive/Deep_learning/Olympia_dataset/dataset_500px_uni/47.JPG\n",
            "/content/drive/MyDrive/Deep_learning/Olympia_dataset/dataset_500px_uni/46.JPG\n",
            "/content/drive/MyDrive/Deep_learning/Olympia_dataset/dataset_500px_uni/48.JPG\n",
            "/content/drive/MyDrive/Deep_learning/Olympia_dataset/dataset_500px_uni/49.JPG\n",
            "/content/drive/MyDrive/Deep_learning/Olympia_dataset/dataset_500px_uni/50.JPG\n",
            "/content/drive/MyDrive/Deep_learning/Olympia_dataset/dataset_500px_uni/51.JPG\n",
            "/content/drive/MyDrive/Deep_learning/Olympia_dataset/dataset_500px_uni/52.JPG\n",
            "/content/drive/MyDrive/Deep_learning/Olympia_dataset/dataset_500px_uni/53.JPG\n",
            "/content/drive/MyDrive/Deep_learning/Olympia_dataset/dataset_500px_uni/54.JPG\n",
            "/content/drive/MyDrive/Deep_learning/Olympia_dataset/dataset_500px_uni/55.JPG\n",
            "/content/drive/MyDrive/Deep_learning/Olympia_dataset/dataset_500px_uni/56.JPG\n",
            "/content/drive/MyDrive/Deep_learning/Olympia_dataset/dataset_500px_uni/57.JPG\n",
            "/content/drive/MyDrive/Deep_learning/Olympia_dataset/dataset_500px_uni/59.JPG\n",
            "/content/drive/MyDrive/Deep_learning/Olympia_dataset/dataset_500px_uni/58.JPG\n",
            "/content/drive/MyDrive/Deep_learning/Olympia_dataset/dataset_500px_uni/60.JPG\n",
            "/content/drive/MyDrive/Deep_learning/Olympia_dataset/dataset_500px_uni/61.JPG\n",
            "/content/drive/MyDrive/Deep_learning/Olympia_dataset/dataset_500px_uni/62.JPG\n",
            "/content/drive/MyDrive/Deep_learning/Olympia_dataset/dataset_500px_uni/63.JPG\n",
            "/content/drive/MyDrive/Deep_learning/Olympia_dataset/dataset_500px_uni/64.JPG\n"
          ],
          "name": "stdout"
        }
      ]
    },
    {
      "cell_type": "code",
      "metadata": {
        "id": "wJcpzrGUQGcQ"
      },
      "source": [
        ""
      ],
      "execution_count": null,
      "outputs": []
    },
    {
      "cell_type": "markdown",
      "metadata": {
        "id": "zzOy7wqqlKBg"
      },
      "source": [
        "#**フォルダを削除したいとき**\n"
      ]
    },
    {
      "cell_type": "code",
      "metadata": {
        "id": "GNvvKhLxlKLU"
      },
      "source": [
        "import shutil\n",
        "\n",
        "directory = '/content/drive/MyDrive/Deep_learning/Olympia_dataset/dataset_500px_half'\n",
        "\n",
        "try:\n",
        "    shutil.rmtree(directory)\n",
        "except FileNotFoundError:\n",
        "    pass"
      ],
      "execution_count": 5,
      "outputs": []
    }
  ]
}