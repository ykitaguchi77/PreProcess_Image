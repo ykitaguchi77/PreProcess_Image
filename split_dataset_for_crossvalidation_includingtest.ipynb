{
  "nbformat": 4,
  "nbformat_minor": 0,
  "metadata": {
    "colab": {
      "name": "Untitled62.ipynb",
      "provenance": [],
      "toc_visible": true,
      "authorship_tag": "ABX9TyOLO7SmI+Z75i7cNZELCZrs",
      "include_colab_link": true
    },
    "kernelspec": {
      "name": "python3",
      "display_name": "Python 3"
    }
  },
  "cells": [
    {
      "cell_type": "markdown",
      "metadata": {
        "id": "view-in-github",
        "colab_type": "text"
      },
      "source": [
        "<a href=\"https://colab.research.google.com/github/ykitaguchi77/PreProcess_Image_colab/blob/master/split_dataset_for_crossvalidation_includingtest.ipynb\" target=\"_parent\"><img src=\"https://colab.research.google.com/assets/colab-badge.svg\" alt=\"Open In Colab\"/></a>"
      ]
    },
    {
      "cell_type": "markdown",
      "metadata": {
        "id": "E4luGyEIYT2J"
      },
      "source": [
        "#**Split datasets for cross validation**\n",
        "Trainデータセットを5分割し、そのうち1つをvalセットに、残りの合計をtestセットに分割するスクリプト\n"
      ]
    },
    {
      "cell_type": "code",
      "metadata": {
        "id": "EiZc9Jl22lIr",
        "colab": {
          "base_uri": "https://localhost:8080/",
          "height": 162
        },
        "outputId": "652eef8f-c377-46d1-b4a5-9984f63f770f"
      },
      "source": [
        "import random\n",
        "import glob\n",
        "import os\n",
        "import shutil\n",
        "import numpy as np\n",
        "import time\n",
        "\n",
        "from google.colab import drive\n",
        "drive.mount('/content/drive')\n",
        "\n",
        "\n",
        "'''\n",
        "-----orig_data-----grav\n",
        "                |--cont\n",
        "↓\n",
        "↓\n",
        "\n",
        "-----dst_data[0]------dst_train[0]----grav\n",
        "  |                |               |-- cont\n",
        "  |                |--dst_val[0]------grav\n",
        "  |                                |--cont\n",
        "  |\n",
        "  |--dst_data[1]------dst_train[1]----grav\n",
        "  |                |               |-- cont\n",
        "  |                |--dst_val[1]------grav\n",
        "  |                                |--cont\n",
        "  ...\n",
        "  |--dst_data[9]------dst_train[9]----grav\n",
        "  |                |               |-- cont\n",
        "  |                 |--dst_val[9]------grav\n",
        "  |                                 |--cont\n",
        "  |\n",
        "  |--dst_test---grav\n",
        "              |--cont\n",
        "'''"
      ],
      "execution_count": 112,
      "outputs": [
        {
          "output_type": "stream",
          "text": [
            "Drive already mounted at /content/drive; to attempt to forcibly remount, call drive.mount(\"/content/drive\", force_remount=True).\n"
          ],
          "name": "stdout"
        },
        {
          "output_type": "execute_result",
          "data": {
            "application/vnd.google.colaboratory.intrinsic+json": {
              "type": "string"
            },
            "text/plain": [
              "'\\n-----orig_data-----grav\\n                |--cont\\n↓\\n↓\\n\\n-----dst_data[0]------dst_train[0]----grav\\n  |                |               |-- cont\\n  |                |--dst_val[0]------grav\\n  |                                |--cont\\n  |\\n  |--dst_data[1]------dst_train[1]----grav\\n  |                |               |-- cont\\n  |                |--dst_val[1]------grav\\n  |                                |--cont\\n  ...\\n  |--dst_data[9]------dst_train[9]----grav\\n  |                |               |-- cont\\n  |                 |--dst_val[9]------grav\\n  |                                 |--cont\\n  |\\n  |--dst_test---grav\\n              |--cont\\n'"
            ]
          },
          "metadata": {
            "tags": []
          },
          "execution_count": 112
        }
      ]
    },
    {
      "cell_type": "markdown",
      "metadata": {
        "id": "YeZb4d6s_Wyl"
      },
      "source": [
        "#**Module群**"
      ]
    },
    {
      "cell_type": "code",
      "metadata": {
        "id": "pN9SgjbC_fgi"
      },
      "source": [
        "def get_path(orig_path, dst_path, split_num, test_num):\n",
        "    classes = os.listdir(orig_path) #クラス名を取得\n",
        "    #データの分割数を設定\n",
        "    data_list = [0]*len(classes)\n",
        "    k=0\n",
        "    for i in classes:\n",
        "        data_list[k] = glob.glob(orig_path+'/'+i+'/*')\n",
        "        k+=1\n",
        "    split_length = int((len(data_list)-test_num)/split_num)\n",
        "    return data_list, classes, split_length\n",
        "\n",
        "def makefolder(orig_path, dst_path, classes):\n",
        "    #フォルダを作成\n",
        "    if not os.path.exists(dst_path):  # ディレクトリがなかったら\n",
        "         # 作成したいフォルダ名を作成\n",
        "        for i in range(split_num):\n",
        "            for j in classes:\n",
        "                os.makedirs(dst_path+'/'+str(i)+'/train/'+j, exist_ok=True)\n",
        "                os.makedirs(dst_path+'/'+str(i)+'/val/'+j, exist_ok=True)\n",
        "        for j in classes:\n",
        "            os.makedirs (dst_path+'/test/'+j, exist_ok=True)\n",
        "            os.makedirs (dst_path+'/test/'+j, exist_ok=True)\n",
        "\n",
        "\n",
        "def split_testset(data_list, test_num, classes):\n",
        "    dst_test = [0] * test_num\n",
        "    test_num_class = []\n",
        "\n",
        "    #1クラスごとのテストセットの枚数を確認\n",
        "    test_num_class = int(test_num/len(classes))\n",
        "\n",
        "    #testsetの指定\n",
        "    dst_test = random.sample(data_list, test_num_class)\n",
        "\n",
        "    #データセット全体とtestsetの差分を取り、dst_dataに格納\n",
        "    dst_data = [x for x in data_list if x not in dst_test]\n",
        "\n",
        "    return dst_data, dst_test\n",
        "\n",
        "\n",
        "def split_data_list(data_list, split_num):\n",
        "    split_data, dst_data, dst_train, dst_val, dst_test = [0]*split_num, [0]*split_num, [0]*split_num, [0]*split_num, [0]*split_num\n",
        "\n",
        "    #データの分割\n",
        "    split_data = list(np.array_split(data_list, split_num))\n",
        "\n",
        "    #データセット全体と分割したデータの差分を取り、dst_dataに格納\n",
        "\n",
        "    dst_data = [0] * split_num\n",
        "    for i in range(split_num):\n",
        "        dst_data[i] = [x for x in data_list if x not in split_data[i]]\n",
        "\n",
        "    #トレーニングセット、バリデーションセット、バリデーションセットのリスト作成\n",
        "    for i in range(split_num):\n",
        "        dst_train[i] = dst_data[i]\n",
        "        dst_val[i] = split_data[i]  #バリデーションセット\n",
        "\n",
        "    return dst_train, dst_val\n",
        "\n",
        "\n",
        "def copy_to_folders(split_num, class_name, dst_train, dst_val, dst_path):\n",
        "    k=0\n",
        "    for i in range(split_num):\n",
        "        dst_path_train = dst_path +'/'+str(i)+'/train/'+class_name\n",
        "        dst_path_val = dst_path +'/'+str(i)+'/val/'+class_name\n",
        "\n",
        "        for p in dst_train[k]:  # 選択したファイルを目的フォルダにコピー\n",
        "            shutil.copy(p, dst_path_train)\n",
        "            #print(p)\n",
        "            print(dst_path_train)\n",
        "\n",
        "        for p in dst_val[k]:  # 選択したファイルを目的フォルダにコピー\n",
        "            shutil.copy(p, dst_path_val)\n",
        "            #print(p)    \n",
        "            print(dst_path_val)\n",
        "        k+=1\n",
        "\n",
        "def copy_testset(class_name, dst_test, dst_path):\n",
        "\n",
        "    dst_path_test = dst_path +'/test/'+class_name\n",
        "\n",
        "    for p in dst_test:  # 選択したファイルを目的フォルダにコピー\n",
        "        shutil.copy(p, dst_path_test)\n",
        "        #print(p)    \n",
        "        print(dst_path_test)\n",
        "\n",
        "\n",
        "def main():\n",
        "    orig_path = \"/content/drive/MyDrive/Deep_learning/666mai_dataset/gravcont_250px\"\n",
        "    dst_path = \"/content/drive/MyDrive/Deep_learning/666mai_dataset/crossvalidation_250px\"  # フォルダ名\n",
        "    split_num = 5  #データをいくつに分割するかを記載\n",
        "    test_num = 86  #1クラスごとのtestsetの枚数を記載\n",
        "\n",
        "    data_list, classes, split_length = get_path(orig_path, dst_path, split_num, test_num)\n",
        "    makefolder(orig_path, dst_path, classes)\n",
        "\n",
        "    k=0\n",
        "    for i in range(len(classes)):\n",
        "        dst_data, dst_test = split_testset(data_list[k], test_num, classes)\n",
        "        dst_train, dst_val = split_data_list(dst_data, split_num)\n",
        "        copy_to_folders(split_num, classes[k], dst_train, dst_val, dst_path)\n",
        "        copy_testset(classes[k], dst_test, dst_path)\n",
        "        k+=1"
      ],
      "execution_count": 113,
      "outputs": []
    },
    {
      "cell_type": "code",
      "metadata": {
        "id": "QFseMJ4UK-aN"
      },
      "source": [
        "if __name__ == \"__main__\":\n",
        "    start = time.time()\n",
        "    main()\n",
        "    elapsed_time = time.time() - start\n",
        "    print (\"elapsed_time:{0}\".format(elapsed_time) + \"[sec]\")"
      ],
      "execution_count": null,
      "outputs": []
    },
    {
      "cell_type": "code",
      "metadata": {
        "id": "JCC3Pz2qRemp"
      },
      "source": [
        "    orig_path = \"/content/drive/MyDrive/Deep_learning/666mai_dataset/gravcont_250px\"\n",
        "    dst_path = \"/content/drive/MyDrive/Deep_learning/666mai_dataset/crossvalidation_250px\"  # フォルダ名\n",
        "    split_num = 5  #データをいくつに分割するかを記載\n",
        "    test_num = 86  #1クラスごとのtestsetの枚数を記載\n",
        "\n",
        "    data_list, classes, split_length = get_path(orig_path, dst_path, split_num, test_num)\n",
        "    makefolder(orig_path, dst_path, classes)\n",
        "\n",
        "    k=0\n",
        "    for i in range(len(classes)):\n",
        "        dst_data, dst_test = split_testset(data_list[k], test_num, classes)\n",
        "        dst_train, dst_val = split_data_list(dst_data, split_num)\n",
        "        copy_to_folders(split_num, classes[k], dst_train, dst_val, dst_path)\n",
        "        copy_testset(classes[k], dst_test, dst_path)\n",
        "        k+=1"
      ],
      "execution_count": null,
      "outputs": []
    },
    {
      "cell_type": "markdown",
      "metadata": {
        "id": "z8_V2bmIYI3z"
      },
      "source": [
        "#**作ったフォルダを削除したいとき**"
      ]
    },
    {
      "cell_type": "code",
      "metadata": {
        "id": "dxFqq4HdVKJm"
      },
      "source": [
        "dst_path = \"/content/drive/MyDrive/Deep_learning/666mai_dataset/crossvalidation_250px\"\n",
        "directory = dst_path\n",
        "try:\n",
        "    shutil.rmtree(directory)\n",
        "except FileNotFoundError:\n",
        "    pass"
      ],
      "execution_count": 111,
      "outputs": []
    },
    {
      "cell_type": "markdown",
      "metadata": {
        "id": "y64hsdELaZV7"
      },
      "source": [
        "#**ファイル数の確認**"
      ]
    },
    {
      "cell_type": "code",
      "metadata": {
        "id": "7sk97gDeaZrh",
        "outputId": "0b972a6e-bf7f-4ec5-8317-c0d60b13d9ee",
        "colab": {
          "base_uri": "https://localhost:8080/"
        }
      },
      "source": [
        "import glob\r\n",
        "\r\n",
        "# ファイル数を調べたいフォルダのパス\r\n",
        "path = \"/content/drive/MyDrive/Deep_learning/666mai_dataset/crossvalidation_250px/2/val/cont/*\" \r\n",
        " \r\n",
        "# フォルダ内の全ファイル名をリスト化\r\n",
        "files = glob.glob(path)\r\n",
        " \r\n",
        "# リストの長さ（ファイル数）を取得\r\n",
        "count = len(files)\r\n",
        " \r\n",
        "# ファイル数を確認\r\n",
        "print(count)\r\n",
        "\r\n",
        "# ファイルの中身を確認\r\n",
        "print(files)"
      ],
      "execution_count": 123,
      "outputs": [
        {
          "output_type": "stream",
          "text": [
            "58\n",
            "['/content/drive/MyDrive/Deep_learning/666mai_dataset/crossvalidation_250px/2/val/cont/2139.JPG', '/content/drive/MyDrive/Deep_learning/666mai_dataset/crossvalidation_250px/2/val/cont/4560.jpg', '/content/drive/MyDrive/Deep_learning/666mai_dataset/crossvalidation_250px/2/val/cont/3222.jpg', '/content/drive/MyDrive/Deep_learning/666mai_dataset/crossvalidation_250px/2/val/cont/7402.jpg', '/content/drive/MyDrive/Deep_learning/666mai_dataset/crossvalidation_250px/2/val/cont/444.jpg', '/content/drive/MyDrive/Deep_learning/666mai_dataset/crossvalidation_250px/2/val/cont/4329.jpg', '/content/drive/MyDrive/Deep_learning/666mai_dataset/crossvalidation_250px/2/val/cont/1045.JPG', '/content/drive/MyDrive/Deep_learning/666mai_dataset/crossvalidation_250px/2/val/cont/168.jpg', '/content/drive/MyDrive/Deep_learning/666mai_dataset/crossvalidation_250px/2/val/cont/3902.JPG', '/content/drive/MyDrive/Deep_learning/666mai_dataset/crossvalidation_250px/2/val/cont/2556.JPG', '/content/drive/MyDrive/Deep_learning/666mai_dataset/crossvalidation_250px/2/val/cont/6148.jpg', '/content/drive/MyDrive/Deep_learning/666mai_dataset/crossvalidation_250px/2/val/cont/469.jpg', '/content/drive/MyDrive/Deep_learning/666mai_dataset/crossvalidation_250px/2/val/cont/5523.jpg', '/content/drive/MyDrive/Deep_learning/666mai_dataset/crossvalidation_250px/2/val/cont/2180.jpg', '/content/drive/MyDrive/Deep_learning/666mai_dataset/crossvalidation_250px/2/val/cont/2214.JPG', '/content/drive/MyDrive/Deep_learning/666mai_dataset/crossvalidation_250px/2/val/cont/3656.jpg', '/content/drive/MyDrive/Deep_learning/666mai_dataset/crossvalidation_250px/2/val/cont/2377.jpg', '/content/drive/MyDrive/Deep_learning/666mai_dataset/crossvalidation_250px/2/val/cont/1813.jpg', '/content/drive/MyDrive/Deep_learning/666mai_dataset/crossvalidation_250px/2/val/cont/8210.jpg', '/content/drive/MyDrive/Deep_learning/666mai_dataset/crossvalidation_250px/2/val/cont/1144.jpg', '/content/drive/MyDrive/Deep_learning/666mai_dataset/crossvalidation_250px/2/val/cont/1759.jpg', '/content/drive/MyDrive/Deep_learning/666mai_dataset/crossvalidation_250px/2/val/cont/3578.jpg', '/content/drive/MyDrive/Deep_learning/666mai_dataset/crossvalidation_250px/2/val/cont/3436.JPG', '/content/drive/MyDrive/Deep_learning/666mai_dataset/crossvalidation_250px/2/val/cont/948.JPG', '/content/drive/MyDrive/Deep_learning/666mai_dataset/crossvalidation_250px/2/val/cont/4372.jpg', '/content/drive/MyDrive/Deep_learning/666mai_dataset/crossvalidation_250px/2/val/cont/1143.jpg', '/content/drive/MyDrive/Deep_learning/666mai_dataset/crossvalidation_250px/2/val/cont/3459.jpg', '/content/drive/MyDrive/Deep_learning/666mai_dataset/crossvalidation_250px/2/val/cont/149.jpg', '/content/drive/MyDrive/Deep_learning/666mai_dataset/crossvalidation_250px/2/val/cont/5563.jpg', '/content/drive/MyDrive/Deep_learning/666mai_dataset/crossvalidation_250px/2/val/cont/5465.JPG', '/content/drive/MyDrive/Deep_learning/666mai_dataset/crossvalidation_250px/2/val/cont/5128.jpg', '/content/drive/MyDrive/Deep_learning/666mai_dataset/crossvalidation_250px/2/val/cont/4706.jpg', '/content/drive/MyDrive/Deep_learning/666mai_dataset/crossvalidation_250px/2/val/cont/132.jpg', '/content/drive/MyDrive/Deep_learning/666mai_dataset/crossvalidation_250px/2/val/cont/6491.jpg', '/content/drive/MyDrive/Deep_learning/666mai_dataset/crossvalidation_250px/2/val/cont/861.jpg', '/content/drive/MyDrive/Deep_learning/666mai_dataset/crossvalidation_250px/2/val/cont/3851.jpg', '/content/drive/MyDrive/Deep_learning/666mai_dataset/crossvalidation_250px/2/val/cont/3906.jpg', '/content/drive/MyDrive/Deep_learning/666mai_dataset/crossvalidation_250px/2/val/cont/364.jpg', '/content/drive/MyDrive/Deep_learning/666mai_dataset/crossvalidation_250px/2/val/cont/3193.jpg', '/content/drive/MyDrive/Deep_learning/666mai_dataset/crossvalidation_250px/2/val/cont/6060.jpg', '/content/drive/MyDrive/Deep_learning/666mai_dataset/crossvalidation_250px/2/val/cont/5826.jpg', '/content/drive/MyDrive/Deep_learning/666mai_dataset/crossvalidation_250px/2/val/cont/1084.JPG', '/content/drive/MyDrive/Deep_learning/666mai_dataset/crossvalidation_250px/2/val/cont/5281.jpg', '/content/drive/MyDrive/Deep_learning/666mai_dataset/crossvalidation_250px/2/val/cont/2979.jpg', '/content/drive/MyDrive/Deep_learning/666mai_dataset/crossvalidation_250px/2/val/cont/5871.jpg', '/content/drive/MyDrive/Deep_learning/666mai_dataset/crossvalidation_250px/2/val/cont/4222.jpg', '/content/drive/MyDrive/Deep_learning/666mai_dataset/crossvalidation_250px/2/val/cont/259.jpg', '/content/drive/MyDrive/Deep_learning/666mai_dataset/crossvalidation_250px/2/val/cont/5244.JPG', '/content/drive/MyDrive/Deep_learning/666mai_dataset/crossvalidation_250px/2/val/cont/4647.jpg', '/content/drive/MyDrive/Deep_learning/666mai_dataset/crossvalidation_250px/2/val/cont/4975.jpg', '/content/drive/MyDrive/Deep_learning/666mai_dataset/crossvalidation_250px/2/val/cont/200.jpg', '/content/drive/MyDrive/Deep_learning/666mai_dataset/crossvalidation_250px/2/val/cont/4438.jpg', '/content/drive/MyDrive/Deep_learning/666mai_dataset/crossvalidation_250px/2/val/cont/3098.jpg', '/content/drive/MyDrive/Deep_learning/666mai_dataset/crossvalidation_250px/2/val/cont/2054.jpg', '/content/drive/MyDrive/Deep_learning/666mai_dataset/crossvalidation_250px/2/val/cont/1043.jpg', '/content/drive/MyDrive/Deep_learning/666mai_dataset/crossvalidation_250px/2/val/cont/2847.jpg', '/content/drive/MyDrive/Deep_learning/666mai_dataset/crossvalidation_250px/2/val/cont/3668.jpg', '/content/drive/MyDrive/Deep_learning/666mai_dataset/crossvalidation_250px/2/val/cont/6264.JPG']\n"
          ],
          "name": "stdout"
        }
      ]
    }
  ]
}